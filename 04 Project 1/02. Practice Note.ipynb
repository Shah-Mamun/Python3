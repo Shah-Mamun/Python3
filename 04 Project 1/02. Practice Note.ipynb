{
 "cells": [
  {
   "cell_type": "code",
   "execution_count": 2,
   "metadata": {},
   "outputs": [
    {
     "name": "stdout",
     "output_type": "stream",
     "text": [
      " | | \n",
      "-----\n",
      " | | \n",
      "-----\n",
      " | | \n"
     ]
    }
   ],
   "source": [
    "print(\" \"+\"|\"+\" \"+\"|\"+\" \")\n",
    "print(\"-----\")\n",
    "print(\" \"+\"|\"+\" \"+\"|\"+\" \")\n",
    "print(\"-----\")\n",
    "print(\" \"+\"|\"+\" \"+\"|\"+\" \")"
   ]
  },
  {
   "cell_type": "code",
   "execution_count": 3,
   "metadata": {},
   "outputs": [],
   "source": [
    "def print_board():\n",
    "    print(\" \"+\"|\"+\" \"+\"|\"+\" \")\n",
    "    print(\"-----\")\n",
    "    print(\" \"+\"|\"+\" \"+\"|\"+\" \")\n",
    "    print(\"-----\")\n",
    "    print(\" \"+\"|\"+\" \"+\"|\"+\" \")"
   ]
  },
  {
   "cell_type": "code",
   "execution_count": 4,
   "metadata": {},
   "outputs": [
    {
     "name": "stdout",
     "output_type": "stream",
     "text": [
      " | | \n",
      "-----\n",
      " | | \n",
      "-----\n",
      " | | \n"
     ]
    }
   ],
   "source": [
    "print_board()"
   ]
  },
  {
   "cell_type": "code",
   "execution_count": 4,
   "metadata": {},
   "outputs": [],
   "source": [
    "def print_numBoard(anyList):\n",
    "    print(f\"{anyList[7]}\"+\"|\"+f\"{anyList[8]}\"+\"|\"+f\"{anyList[9]}\")\n",
    "    print(\"-----\")\n",
    "    print(f\"{anyList[4]}\"+\"|\"+f\"{anyList[5]}\"+\"|\"+f\"{anyList[6]}\")\n",
    "    print(\"-----\")\n",
    "    print(f\"{anyList[1]}\"+\"|\"+f\"{anyList[2]}\"+\"|\"+f\"{anyList[3]}\")"
   ]
  },
  {
   "cell_type": "code",
   "execution_count": 5,
   "metadata": {},
   "outputs": [
    {
     "name": "stdout",
     "output_type": "stream",
     "text": [
      "7|8|9\n",
      "-----\n",
      "4|5|6\n",
      "-----\n",
      "1|2|3\n"
     ]
    }
   ],
   "source": [
    "a_list = ['0','1','2','3','4','5','6','7','8','9']\n",
    "\n",
    "print_numBoard(a_list)"
   ]
  },
  {
   "cell_type": "code",
   "execution_count": 6,
   "metadata": {},
   "outputs": [
    {
     "name": "stdout",
     "output_type": "stream",
     "text": [
      "Please enter a number from keypad: 1\n",
      "'+' to continue and '0' to end: 0\n"
     ]
    }
   ],
   "source": [
    "list1 = ['0',' ',' ',' ',' ',' ',' ',' ',' ',' ']\n",
    "choice = 'Wrong'\n",
    "\n",
    "while choice not in list1:\n",
    "    choice = int(input(\"Please enter a number from keypad: \"))\n",
    "    list1[choice] = choice\n",
    "    \n",
    "    choice = input(\"'+' to continue and '0' to end: \")\n",
    "    "
   ]
  },
  {
   "cell_type": "code",
   "execution_count": 12,
   "metadata": {},
   "outputs": [
    {
     "name": "stdout",
     "output_type": "stream",
     "text": [
      "Please enter a number from keypad: 2\n",
      " | | \n",
      "-----\n",
      " | | \n",
      "-----\n",
      " |2| \n",
      "'+' to continue and '0' to end: +\n",
      "Please enter a number from keypad: 5\n",
      " | | \n",
      "-----\n",
      " |5| \n",
      "-----\n",
      " |2| \n",
      "'+' to continue and '0' to end: 0\n"
     ]
    }
   ],
   "source": [
    "list1 = ['0',' ',' ',' ',' ',' ',' ',' ',' ',' ']\n",
    "choice = 'Wrong'\n",
    "\n",
    "while choice not in list1:\n",
    "    choice = int(input(\"Please enter a number from keypad: \"))\n",
    "    if choice==0:\n",
    "        print('Game terminated!')\n",
    "        break\n",
    "    list1[choice] = choice\n",
    "    \n",
    "    print_numBoard(list1)\n",
    "    \n",
    "    choice = input(\"'+' to continue and '0' to end: \")"
   ]
  },
  {
   "cell_type": "code",
   "execution_count": null,
   "metadata": {},
   "outputs": [],
   "source": []
  }
 ],
 "metadata": {
  "kernelspec": {
   "display_name": "Python 3",
   "language": "python",
   "name": "python3"
  },
  "language_info": {
   "codemirror_mode": {
    "name": "ipython",
    "version": 3
   },
   "file_extension": ".py",
   "mimetype": "text/x-python",
   "name": "python",
   "nbconvert_exporter": "python",
   "pygments_lexer": "ipython3",
   "version": "3.8.3"
  }
 },
 "nbformat": 4,
 "nbformat_minor": 4
}
