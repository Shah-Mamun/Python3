{
 "cells": [
  {
   "cell_type": "markdown",
   "metadata": {},
   "source": [
    "# Input varification"
   ]
  },
  {
   "cell_type": "markdown",
   "metadata": {},
   "source": [
    "    Take an input and verify that\n",
    "   * the input is a digit\n",
    "   * the input is in a range of 0-10\n",
    "   * And the output is in integer type"
   ]
  },
  {
   "cell_type": "code",
   "execution_count": 3,
   "metadata": {},
   "outputs": [],
   "source": [
    "def user_choice():\n",
    "    choice = 'WRONG'    #Start with a wrong number choice for while loop\n",
    "    num_range = False   #And a wrong number range\n",
    "    \n",
    "    while choice.isdigit() == False or num_range == False:     #while the input is (not a digit) or (not in range)\n",
    "        choice = input('Enter the number: ')\n",
    "        \n",
    "        if choice.isdigit() == False:                          #means input is not a digit: thus the loop will restart\n",
    "            print('Input is not a digit.')\n",
    "            \n",
    "        if choice.isdigit() == True:                          #means the input is a digit; so no more (not a digit)\n",
    "            \n",
    "            if int(choice) in range(0,11):                    #means the input is in range; so no more (not in range)\n",
    "                num_range=True\n",
    "            else:                                             #means the input is (not in range); thus the loop will run again\n",
    "                num_range=False\n",
    "                print('The digit is not in range.')\n",
    "                \n",
    "                \n",
    "    return int(choice)\n",
    "            \n",
    "            "
   ]
  },
  {
   "cell_type": "code",
   "execution_count": 4,
   "metadata": {},
   "outputs": [
    {
     "name": "stdout",
     "output_type": "stream",
     "text": [
      "Enter the number: two\n",
      "Input is not a digit.\n",
      "Enter the number: 100\n",
      "The digit is not in range.\n",
      "Enter the number: 11\n",
      "The digit is not in range.\n",
      "Enter the number: 10\n"
     ]
    },
    {
     "data": {
      "text/plain": [
       "10"
      ]
     },
     "execution_count": 4,
     "metadata": {},
     "output_type": "execute_result"
    }
   ],
   "source": [
    "user_choice()"
   ]
  },
  {
   "cell_type": "code",
   "execution_count": 2,
   "metadata": {},
   "outputs": [
    {
     "name": "stdout",
     "output_type": "stream",
     "text": [
      "Please enter a number (0-10): 1\n"
     ]
    },
    {
     "data": {
      "text/plain": [
       "1"
      ]
     },
     "execution_count": 2,
     "metadata": {},
     "output_type": "execute_result"
    }
   ],
   "source": [
    "user_choice()"
   ]
  },
  {
   "cell_type": "markdown",
   "metadata": {},
   "source": [
    "# Simple interactive program"
   ]
  },
  {
   "cell_type": "markdown",
   "metadata": {},
   "source": [
    "###### Finally let's combine all of these ideas to create a small game where\n",
    "* a user can choose a \"position\" in an existing list\n",
    "* and replace it with a value of their choice.\n",
    "* ask if player wants to continue playing"
   ]
  },
  {
   "cell_type": "markdown",
   "metadata": {},
   "source": [
    ">Key Function 1:\n",
    "\n",
    "        Take an exisiting list and a function to display the list:      display_game()\n",
    ">Key Function 2:\n",
    "\n",
    "        Take a position chosen by user & it have to be valid:           position_choice()\n",
    ">Key Function 3:\n",
    "\n",
    "        Replace the user input with given position spot in list:        replacement_choice()\n",
    ">Key Function 4:\n",
    "\n",
    "        Ask if players wants to continue playing the game:              gameon_choice()"
   ]
  },
  {
   "cell_type": "markdown",
   "metadata": {},
   "source": [
    "#### Step 1"
   ]
  },
  {
   "cell_type": "code",
   "execution_count": 7,
   "metadata": {},
   "outputs": [],
   "source": [
    "game_list = [0,1,2]"
   ]
  },
  {
   "cell_type": "code",
   "execution_count": 8,
   "metadata": {},
   "outputs": [],
   "source": [
    "def display_game(a_list):\n",
    "    print('Here the the current list: ')\n",
    "    print(game_list)"
   ]
  },
  {
   "cell_type": "code",
   "execution_count": 9,
   "metadata": {},
   "outputs": [
    {
     "name": "stdout",
     "output_type": "stream",
     "text": [
      "Here the the current list: \n",
      "[0, 1, 2]\n"
     ]
    }
   ],
   "source": [
    "display_game(game_list)"
   ]
  },
  {
   "cell_type": "markdown",
   "metadata": {},
   "source": [
    "#### Step 2"
   ]
  },
  {
   "cell_type": "code",
   "execution_count": 10,
   "metadata": {},
   "outputs": [],
   "source": [
    "def position_choice():\n",
    "    choice = 'WRONG'\n",
    "    \n",
    "    while choice not in ['0','1','2']:\n",
    "        choice = input(\"Pick a position to replace (0,1 or 2) : \")\n",
    "        \n",
    "        if choice not in ['0','1','2']:\n",
    "            print(\"The choice is invalid. Try again.\")\n",
    "    return int(choice)"
   ]
  },
  {
   "cell_type": "markdown",
   "metadata": {},
   "source": [
    "#### Step 3"
   ]
  },
  {
   "cell_type": "code",
   "execution_count": 11,
   "metadata": {},
   "outputs": [],
   "source": [
    "def replacement_choice(a_list, a_position):\n",
    "    user_placement = input(\"Enter the String to replace at the position: \")\n",
    "    \n",
    "    a_list[a_position] = user_placement\n",
    "    \n",
    "    return a_list"
   ]
  },
  {
   "cell_type": "markdown",
   "metadata": {},
   "source": [
    "#### Step 4"
   ]
  },
  {
   "cell_type": "code",
   "execution_count": 14,
   "metadata": {},
   "outputs": [],
   "source": [
    "def gameon_choice():\n",
    "    choice = 'WRONG'\n",
    "    \n",
    "    while choice not in ['Y', 'N']:\n",
    "        choice =input(\"Do you want to continue playing the game (Y or N) : \")\n",
    "        \n",
    "        if choice not in ['Y', 'N']:\n",
    "            print(\"Invalid input!! Try again.\")\n",
    "    if choice == 'Y':\n",
    "        return True\n",
    "    else:\n",
    "        return False\n",
    "            "
   ]
  },
  {
   "cell_type": "markdown",
   "metadata": {},
   "source": [
    "# Putting all the logic  together"
   ]
  },
  {
   "cell_type": "code",
   "execution_count": 15,
   "metadata": {},
   "outputs": [
    {
     "name": "stdout",
     "output_type": "stream",
     "text": [
      "Here the the current list: \n",
      "[0, 1, 2]\n",
      "Pick a position to replace (0,1 or 2) : 2\n",
      "Enter the String to replace at the position: Two\n",
      "Here the the current list: \n",
      "[0, 1, 'Two']\n",
      "Do you want to continue playing the game (Y or N) : Y\n",
      "Here the the current list: \n",
      "[0, 1, 'Two']\n",
      "Pick a position to replace (0,1 or 2) : 0\n",
      "Enter the String to replace at the position: Zero\n",
      "Here the the current list: \n",
      "['Zero', 1, 'Two']\n",
      "Do you want to continue playing the game (Y or N) : N\n"
     ]
    }
   ],
   "source": [
    "game_on = True\n",
    "\n",
    "game_list = [0,1,2]\n",
    "\n",
    "while game_on:\n",
    "    display_game(game_list)\n",
    "    \n",
    "    position = position_choice()\n",
    "    \n",
    "    game_list = replacement_choice(game_list, position)\n",
    "    \n",
    "    display_game(game_list)\n",
    "    \n",
    "    game_on = gameon_choice()"
   ]
  },
  {
   "cell_type": "code",
   "execution_count": null,
   "metadata": {},
   "outputs": [],
   "source": [
    "    "
   ]
  }
 ],
 "metadata": {
  "kernelspec": {
   "display_name": "Python 3",
   "language": "python",
   "name": "python3"
  },
  "language_info": {
   "codemirror_mode": {
    "name": "ipython",
    "version": 3
   },
   "file_extension": ".py",
   "mimetype": "text/x-python",
   "name": "python",
   "nbconvert_exporter": "python",
   "pygments_lexer": "ipython3",
   "version": "3.8.3"
  }
 },
 "nbformat": 4,
 "nbformat_minor": 4
}
